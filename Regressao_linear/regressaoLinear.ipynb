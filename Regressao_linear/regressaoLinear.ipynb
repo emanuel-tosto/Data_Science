{
 "cells": [
  {
   "cell_type": "code",
   "execution_count": 27,
   "metadata": {},
   "outputs": [],
   "source": [
    "import numpy as np\n",
    "import pandas as pd\n",
    "import matplotlib.pyplot as plt\n",
    "from sklearn.model_selection import train_test_split"
   ]
  },
  {
   "cell_type": "code",
   "execution_count": 28,
   "metadata": {},
   "outputs": [],
   "source": [
    "dataset = pd.read_csv('insurance.csv')"
   ]
  },
  {
   "cell_type": "code",
   "execution_count": 29,
   "metadata": {},
   "outputs": [
    {
     "data": {
      "text/html": [
       "<div>\n",
       "<style scoped>\n",
       "    .dataframe tbody tr th:only-of-type {\n",
       "        vertical-align: middle;\n",
       "    }\n",
       "\n",
       "    .dataframe tbody tr th {\n",
       "        vertical-align: top;\n",
       "    }\n",
       "\n",
       "    .dataframe thead th {\n",
       "        text-align: right;\n",
       "    }\n",
       "</style>\n",
       "<table border=\"1\" class=\"dataframe\">\n",
       "  <thead>\n",
       "    <tr style=\"text-align: right;\">\n",
       "      <th></th>\n",
       "      <th>108</th>\n",
       "      <th>392.5</th>\n",
       "    </tr>\n",
       "  </thead>\n",
       "  <tbody>\n",
       "    <tr>\n",
       "      <th>0</th>\n",
       "      <td>19</td>\n",
       "      <td>46.2</td>\n",
       "    </tr>\n",
       "    <tr>\n",
       "      <th>1</th>\n",
       "      <td>13</td>\n",
       "      <td>15.7</td>\n",
       "    </tr>\n",
       "    <tr>\n",
       "      <th>2</th>\n",
       "      <td>124</td>\n",
       "      <td>422.2</td>\n",
       "    </tr>\n",
       "    <tr>\n",
       "      <th>3</th>\n",
       "      <td>40</td>\n",
       "      <td>119.4</td>\n",
       "    </tr>\n",
       "    <tr>\n",
       "      <th>4</th>\n",
       "      <td>57</td>\n",
       "      <td>170.9</td>\n",
       "    </tr>\n",
       "  </tbody>\n",
       "</table>\n",
       "</div>"
      ],
      "text/plain": [
       "   108  392.5\n",
       "0   19   46.2\n",
       "1   13   15.7\n",
       "2  124  422.2\n",
       "3   40  119.4\n",
       "4   57  170.9"
      ]
     },
     "execution_count": 29,
     "metadata": {},
     "output_type": "execute_result"
    }
   ],
   "source": [
    "dataset.head()"
   ]
  },
  {
   "cell_type": "code",
   "execution_count": 30,
   "metadata": {},
   "outputs": [],
   "source": [
    "#Classe da regressão linear univariada\n",
    "class simple_linear_regression(object):\n",
    "    \n",
    "    def __init__(self):\n",
    "        self.b0 = None\n",
    "        self.b1 = None\n",
    "    \n",
    "    def fit(self,train):\n",
    "        self.b0, self.b1 = self.coefficients(train)\n",
    "        \n",
    "    def predict(self, test):\n",
    "        predictions = []\n",
    "        for row in test:\n",
    "            ypred = self.b0 + self.b1 * row\n",
    "            predictions.append(ypred)\n",
    "        return predictions\n",
    "    \n",
    "    # Calculate coefficients\n",
    "    def coefficients(self, dataset):\n",
    "        x = dataset.iloc[:,0]\n",
    "        y = dataset.iloc[:,1]\n",
    "        x_mean, y_mean = self.mean(x), self.mean(y)\n",
    "        b1 = self.covariance(x, x_mean, y, y_mean) / self.variance(x, x_mean)\n",
    "        b0 = y_mean - b1 * x_mean\n",
    "        return [b0, b1]\n",
    "    \n",
    "    # Calculate covariance between x and y\n",
    "    def covariance(self, x, mean_x, y, mean_y):\n",
    "        covar = 0.0\n",
    "        for i in range(len(x)):\n",
    "            covar += (x.iloc[i] - mean_x) * (y.iloc[i] - mean_y)\n",
    "        return covar\n",
    "    \n",
    "    # Calculate the variance of a list of numbers\n",
    "    def variance(self, values, mean):\n",
    "        return sum([(x-mean)**2 for x in values])\n",
    "\n",
    "    # Calculate the mean value of a list of numbers\n",
    "    def mean(self, values):\n",
    "        return sum(values) / float(len(values))\n"
   ]
  },
  {
   "cell_type": "code",
   "execution_count": 31,
   "metadata": {},
   "outputs": [],
   "source": [
    "\n",
    "\n",
    "#Separa o dataset em teste e treino\n",
    "data_train, data_test = train_test_split(dataset, test_size=0.40)\n",
    "#Separa os dados de teste em X e y\n",
    "X_test = data_test.iloc[:,0]\n",
    "y_test = data_test.iloc[:,1]\n",
    "y_list = y_test.tolist()\n",
    "\n"
   ]
  },
  {
   "cell_type": "code",
   "execution_count": 32,
   "metadata": {},
   "outputs": [],
   "source": [
    "\n",
    "\n",
    "#Executa a regressão linear e prediz os valores para X_test\n",
    "lr = simple_linear_regression()\n",
    "lr.fit(data_train)\n",
    "predict = lr.predict(X_test)\n",
    "\n"
   ]
  },
  {
   "cell_type": "code",
   "execution_count": 33,
   "metadata": {},
   "outputs": [],
   "source": [
    "\n",
    "\n",
    "from math import sqrt\n",
    "\n",
    "# Calculate root mean squared error\n",
    "def rmse_metric(actual, predicted):\n",
    "    sum_error = 0.0\n",
    "    for i in range(len(actual)):\n",
    "        prediction_error = predicted[i] - actual[i]\n",
    "        sum_error += (prediction_error ** 2)\n",
    "        mean_error = sum_error / float(len(actual))\n",
    "    return sqrt(mean_error)"
   ]
  },
  {
   "cell_type": "code",
   "execution_count": 34,
   "metadata": {},
   "outputs": [],
   "source": [
    "#Calcula o RMSE para o algoritmo de regressão\n",
    "rmse_reg = rmse_metric(y_list,predict)\n"
   ]
  },
  {
   "cell_type": "code",
   "execution_count": 35,
   "metadata": {},
   "outputs": [],
   "source": [
    "import bisect as bs\n",
    "\n",
    "#Definição da função smart_mean\n",
    "#Essa função faz uma aproximação linear entre os dois valores mais próximos, no conjunto de treino, \n",
    "#em relação a amostra de teste\n",
    "def smart_mean(data_train,test):\n",
    "    data_sort = data_train.sort_values(data_train.columns[0], ascending = True)\n",
    "    X_train = (data_sort.iloc[:,0]).tolist()\n",
    "    y_train = (data_sort.iloc[:,1]).tolist()\n",
    "    predict = []\n",
    "    for x in test:\n",
    "        bigger = bs.bisect_right(X_train,x)\n",
    "        smaller = bs.bisect_left(X_train,x)\n",
    "        if(bigger > len(X_train)-1):\n",
    "            valuePredict = (x*y_train[smaller-1])/X_train[smaller-1]\n",
    "        else:\n",
    "            dif_x = (X_train[bigger] - X_train[smaller])\n",
    "            if(dif_x != 0):\n",
    "                incValue = (y_train[bigger] - y_train[smaller]) / dif_x\n",
    "                valuePredict = y_train[smaller] + dif_x*incValue\n",
    "            else:\n",
    "                valuePredict = y_train[smaller]\n",
    "        predict.append(valuePredict)\n",
    "    return predict\n",
    "\n",
    "#Definição da função baseline, prediz que todos os valores são a média dos dados de treino\n",
    "def baseline(y_train, test):\n",
    "    meanValue = np.mean(y_train)\n",
    "    predictions = [meanValue for i in range(len(test))]\n",
    "    return predictions"
   ]
  },
  {
   "cell_type": "code",
   "execution_count": 36,
   "metadata": {},
   "outputs": [],
   "source": [
    "#Calcula o RMSE para o algoritmo de smart_mean\n",
    "predict_smartmean = smart_mean(data_train,X_test)\n",
    "rmse_smart = rmse_metric(y_list,predict_smartmean)"
   ]
  },
  {
   "cell_type": "code",
   "execution_count": 37,
   "metadata": {},
   "outputs": [],
   "source": [
    "#Calcula o RMSE para o algoritmo baseline\n",
    "predict_base = baseline(y_list,X_test)\n",
    "rmse_baseline = rmse_metric(y_list,predict_base)"
   ]
  },
  {
   "cell_type": "code",
   "execution_count": 38,
   "metadata": {},
   "outputs": [
    {
     "name": "stdout",
     "output_type": "stream",
     "text": [
      "Predições\n",
      "valor real: 0.000\t|| regressão: 14.949\t|| smart_mean: 6.600\t|| baseline: 99.652\n",
      "valor real: 69.200\t|| regressão: 103.054\t|| smart_mean: 92.600\t|| baseline: 99.652\n",
      "valor real: 23.500\t|| regressão: 53.715\t|| smart_mean: 15.700\t|| baseline: 99.652\n",
      "valor real: 142.100\t|| regressão: 74.861\t|| smart_mean: 161.500\t|| baseline: 99.652\n",
      "valor real: 119.400\t|| regressão: 155.917\t|| smart_mean: 73.400\t|| baseline: 99.652\n",
      "valor real: 194.500\t|| regressão: 120.675\t|| smart_mean: 152.800\t|| baseline: 99.652\n",
      "valor real: 98.100\t|| regressão: 85.433\t|| smart_mean: 161.500\t|| baseline: 99.652\n",
      "valor real: 27.900\t|| regressão: 39.619\t|| smart_mean: 87.400\t|| baseline: 99.652\n",
      "valor real: 31.900\t|| regressão: 60.764\t|| smart_mean: 77.500\t|| baseline: 99.652\n",
      "valor real: 209.800\t|| regressão: 124.200\t|| smart_mean: 152.800\t|| baseline: 99.652\n",
      "valor real: 65.300\t|| regressão: 50.191\t|| smart_mean: 21.300\t|| baseline: 99.652\n",
      "valor real: 59.600\t|| regressão: 71.336\t|| smart_mean: 161.500\t|| baseline: 99.652\n",
      "valor real: 76.100\t|| regressão: 43.143\t|| smart_mean: 87.400\t|| baseline: 99.652\n",
      "valor real: 48.700\t|| regressão: 46.667\t|| smart_mean: 21.300\t|| baseline: 99.652\n",
      "valor real: 46.200\t|| regressão: 81.909\t|| smart_mean: 161.500\t|| baseline: 99.652\n",
      "valor real: 11.800\t|| regressão: 29.046\t|| smart_mean: 20.900\t|| baseline: 99.652\n",
      "valor real: 55.600\t|| regressão: 43.143\t|| smart_mean: 87.400\t|| baseline: 99.652\n",
      "valor real: 422.200\t|| regressão: 451.950\t|| smart_mean: 442.334\t|| baseline: 99.652\n",
      "valor real: 58.100\t|| regressão: 57.240\t|| smart_mean: 15.700\t|| baseline: 99.652\n",
      "valor real: 89.900\t|| regressão: 60.764\t|| smart_mean: 77.500\t|| baseline: 99.652\n",
      "valor real: 103.900\t|| regressão: 117.151\t|| smart_mean: 152.800\t|| baseline: 99.652\n",
      "valor real: 187.500\t|| regressão: 106.579\t|| smart_mean: 92.600\t|| baseline: 99.652\n",
      "valor real: 95.500\t|| regressão: 64.288\t|| smart_mean: 32.100\t|| baseline: 99.652\n",
      "valor real: 202.400\t|| regressão: 226.401\t|| smart_mean: 217.600\t|| baseline: 99.652\n",
      "valor real: 52.100\t|| regressão: 46.667\t|| smart_mean: 21.300\t|| baseline: 99.652\n"
     ]
    }
   ],
   "source": [
    "print('Predições')\n",
    "for i in range(len(y_list)):\n",
    "    print(\"valor real: {:.3f}\\t|| regressão: {:.3f}\\t|| smart_mean: {:.3f}\\t|| baseline: {:.3f}\".format(y_list[i], predict[i], predict_smartmean[i], predict_base[i]))\n"
   ]
  },
  {
   "cell_type": "code",
   "execution_count": 39,
   "metadata": {},
   "outputs": [
    {
     "name": "stdout",
     "output_type": "stream",
     "text": [
      "RMSE para regressão linear: 37.55960335298851\n",
      "RMSE para smart_mean: 50.719209425854224\n",
      "RMSE para baseline: 88.22677199127259\n"
     ]
    }
   ],
   "source": [
    "\n",
    "\n",
    "print('RMSE para regressão linear: {0}'.format(rmse_reg))\n",
    "print('RMSE para smart_mean: {0}'.format(rmse_smart))\n",
    "print('RMSE para baseline: {0}'.format(rmse_baseline))\n",
    "\n"
   ]
  }
 ],
 "metadata": {
  "kernelspec": {
   "display_name": "Python 3",
   "language": "python",
   "name": "python3"
  },
  "language_info": {
   "codemirror_mode": {
    "name": "ipython",
    "version": 3
   },
   "file_extension": ".py",
   "mimetype": "text/x-python",
   "name": "python",
   "nbconvert_exporter": "python",
   "pygments_lexer": "ipython3",
   "version": "3.7.3"
  }
 },
 "nbformat": 4,
 "nbformat_minor": 2
}
